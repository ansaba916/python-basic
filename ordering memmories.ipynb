{
 "cells": [
  {
   "cell_type": "code",
   "execution_count": 1,
   "id": "42c979ce",
   "metadata": {},
   "outputs": [
    {
     "name": "stdout",
     "output_type": "stream",
     "text": [
      "[5, 4, 3, 2, 1]\n"
     ]
    }
   ],
   "source": [
    "l=[1,2,3,4,5]\n",
    "l.reverse()\n",
    "print(l)"
   ]
  },
  {
   "cell_type": "code",
   "execution_count": 2,
   "id": "a41223b3",
   "metadata": {},
   "outputs": [
    {
     "name": "stdout",
     "output_type": "stream",
     "text": [
      "enter the limit:1\n",
      "1\n",
      "1\n"
     ]
    }
   ],
   "source": [
    "#febinnoci\n",
    "t=int(input(\"enter the limit:\"))\n",
    "a=0\n",
    "b=1\n",
    "print(b)\n",
    "for i in range(b,t+1):\n",
    "    sum=a+b\n",
    "    a=b\n",
    "    b=sum\n",
    "print(sum)"
   ]
  },
  {
   "cell_type": "code",
   "execution_count": 3,
   "id": "8ae496c6",
   "metadata": {},
   "outputs": [
    {
     "name": "stdout",
     "output_type": "stream",
     "text": [
      "enter the starting range:10\n",
      "enter the ending range:20\n",
      "10\n",
      "110\n",
      "1320\n",
      "17160\n",
      "240240\n",
      "3603600\n",
      "57657600\n",
      "980179200\n",
      "17643225600\n",
      "335221286400\n",
      "6704425728000\n"
     ]
    }
   ],
   "source": [
    "#factorial range \n",
    "a=int(input(\"enter the starting range:\"))\n",
    "b=int(input(\"enter the ending range:\"))\n",
    "s=1\n",
    "for i in range(a,b+1):\n",
    "    s=i*s\n",
    "    print(s)"
   ]
  },
  {
   "cell_type": "code",
   "execution_count": 4,
   "id": "81b4b472",
   "metadata": {},
   "outputs": [
    {
     "ename": "SyntaxError",
     "evalue": "invalid syntax (492687677.py, line 6)",
     "output_type": "error",
     "traceback": [
      "\u001b[1;36m  Input \u001b[1;32mIn [4]\u001b[1;36m\u001b[0m\n\u001b[1;33m    count=count+digit**3 l=10\u001b[0m\n\u001b[1;37m                         ^\u001b[0m\n\u001b[1;31mSyntaxError\u001b[0m\u001b[1;31m:\u001b[0m invalid syntax\n"
     ]
    }
   ],
   "source": [
    "#armstrong\n",
    "l=int(input(\"enter numbers:\"))\n",
    "count=0\n",
    "while 1==0:\n",
    "    digit=l%10\n",
    "    count=count+digit**3 l=10\n",
    "print(str)"
   ]
  },
  {
   "cell_type": "code",
   "execution_count": 5,
   "id": "ae8b339c",
   "metadata": {},
   "outputs": [
    {
     "name": "stdout",
     "output_type": "stream",
     "text": [
      "enter the first number:1\n",
      "enter the last number:10\n",
      "1\n",
      "3\n",
      "6\n",
      "10\n",
      "15\n",
      "21\n",
      "28\n",
      "36\n",
      "45\n",
      "55\n"
     ]
    }
   ],
   "source": [
    "#sum of digit numbers\n",
    "r=int(input(\"enter the first number:\"))\n",
    "s=int(input(\"enter the last number:\"))\n",
    "m=0\n",
    "for i in range(r,s+1):\n",
    "    m=m+i\n",
    "    print(m)\n",
    "    "
   ]
  },
  {
   "cell_type": "code",
   "execution_count": 8,
   "id": "0b6344c0",
   "metadata": {},
   "outputs": [
    {
     "name": "stdout",
     "output_type": "stream",
     "text": [
      "28.26\n"
     ]
    }
   ],
   "source": [
    "class circle:\n",
    "    def __init__(self,r):\n",
    "        self.r=r\n",
    "    def area(self):\n",
    "        print(3.14*self.r**2)\n",
    "obj=circle(3)\n",
    "obj.area()\n",
    "    \n"
   ]
  },
  {
   "cell_type": "code",
   "execution_count": 9,
   "id": "1ff2b4f1",
   "metadata": {},
   "outputs": [
    {
     "name": "stdout",
     "output_type": "stream",
     "text": [
      "96\n"
     ]
    }
   ],
   "source": [
    "class rectangle:\n",
    "    def __init__(self,length,width):\n",
    "        self.a=length\n",
    "        self.b=width\n",
    "    def area(self):\n",
    "        print(self.a*self.b)\n",
    "obj=rectangle(12,8)\n",
    "obj.area()"
   ]
  },
  {
   "cell_type": "code",
   "execution_count": 10,
   "id": "4b41189f",
   "metadata": {},
   "outputs": [
    {
     "name": "stdout",
     "output_type": "stream",
     "text": [
      "prime numbers between 90 and 100 are:\n"
     ]
    }
   ],
   "source": [
    "lower=90\n",
    "upper=100\n",
    "print(\"prime numbers between\",lower,\"and\",upper,\"are:\")\n",
    "for num in range(lower,upper,upper+1):\n",
    "    if num>1:\n",
    "        for i in range(2,num):\n",
    "            if (num%i)==0:\n",
    "                break\n",
    "        else:\n",
    "            print(num)"
   ]
  },
  {
   "cell_type": "code",
   "execution_count": 1,
   "id": "65c8affd",
   "metadata": {},
   "outputs": [
    {
     "name": "stdout",
     "output_type": "stream",
     "text": [
      "enter your values:5\n",
      "odd\n"
     ]
    }
   ],
   "source": [
    "r=int(input(\"enter your values:\"))\n",
    "if r%2==0:\n",
    "    print(\"even\")\n",
    "else:\n",
    "    print(\"odd\")"
   ]
  },
  {
   "cell_type": "code",
   "execution_count": null,
   "id": "f861de9d",
   "metadata": {},
   "outputs": [],
   "source": [
    "\n"
   ]
  },
  {
   "cell_type": "code",
   "execution_count": 7,
   "id": "f7ccc943",
   "metadata": {},
   "outputs": [
    {
     "name": "stdout",
     "output_type": "stream",
     "text": [
      "enter numbers:153\n",
      "number is armstrong\n"
     ]
    }
   ],
   "source": [
    "#armstrong\n",
    "number=int(input(\"enter numbers:\"))\n",
    "count=0\n",
    "temparary=number\n",
    "while temporary > 0:\n",
    "    digit=temporary%10\n",
    "    count =count+digit**3 \n",
    "    temporary//=10\n",
    "if number==result:\n",
    "    print(\"number is armstrong\")\n",
    "else:\n",
    "    print(\"number is not armstrong\")"
   ]
  },
  {
   "cell_type": "code",
   "execution_count": 9,
   "id": "a13357a5",
   "metadata": {},
   "outputs": [
    {
     "ename": "NameError",
     "evalue": "name 'Average' is not defined",
     "output_type": "error",
     "traceback": [
      "\u001b[1;31m---------------------------------------------------------------------------\u001b[0m",
      "\u001b[1;31mNameError\u001b[0m                                 Traceback (most recent call last)",
      "Input \u001b[1;32mIn [9]\u001b[0m, in \u001b[0;36m<cell line: 2>\u001b[1;34m()\u001b[0m\n\u001b[0;32m      1\u001b[0m lst \u001b[38;5;241m=\u001b[39m [\u001b[38;5;241m15\u001b[39m, \u001b[38;5;241m9\u001b[39m, \u001b[38;5;241m55\u001b[39m, \u001b[38;5;241m41\u001b[39m, \u001b[38;5;241m35\u001b[39m, \u001b[38;5;241m20\u001b[39m, \u001b[38;5;241m62\u001b[39m, \u001b[38;5;241m49\u001b[39m]\n\u001b[1;32m----> 2\u001b[0m average \u001b[38;5;241m=\u001b[39m \u001b[43mAverage\u001b[49m(lst)\n\u001b[0;32m      3\u001b[0m \u001b[38;5;28mprint\u001b[39m(\u001b[38;5;124m\"\u001b[39m\u001b[38;5;124maverage number\u001b[39m\u001b[38;5;124m\"\u001b[39m)\n",
      "\u001b[1;31mNameError\u001b[0m: name 'Average' is not defined"
     ]
    }
   ],
   "source": [
    "lst = [15, 9, 55, 41, 35, 20, 62, 49]\n",
    "av"
   ]
  },
  {
   "cell_type": "code",
   "execution_count": null,
   "id": "cf2bb485",
   "metadata": {},
   "outputs": [],
   "source": []
  }
 ],
 "metadata": {
  "kernelspec": {
   "display_name": "Python 3 (ipykernel)",
   "language": "python",
   "name": "python3"
  },
  "language_info": {
   "codemirror_mode": {
    "name": "ipython",
    "version": 3
   },
   "file_extension": ".py",
   "mimetype": "text/x-python",
   "name": "python",
   "nbconvert_exporter": "python",
   "pygments_lexer": "ipython3",
   "version": "3.9.12"
  }
 },
 "nbformat": 4,
 "nbformat_minor": 5
}
