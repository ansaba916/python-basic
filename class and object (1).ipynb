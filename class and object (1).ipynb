{
 "cells": [
  {
   "cell_type": "code",
   "execution_count": 1,
   "id": "392d42dd",
   "metadata": {},
   "outputs": [
    {
     "name": "stdout",
     "output_type": "stream",
     "text": [
      "15\n",
      "addition is simple\n"
     ]
    }
   ],
   "source": [
    "class example:\n",
    "    def __init__ (self,a,b):\n",
    "        self.a=a\n",
    "        self.b=b\n",
    "    def display(self):\n",
    "            print(self.a+self.b)\n",
    "    def view(self,msg):\n",
    "            print(msg)\n",
    "obj=example(10,5)\n",
    "obj.display()\n",
    "obj.view(\"addition is simple\")\n",
    "        "
   ]
  },
  {
   "cell_type": "code",
   "execution_count": 2,
   "id": "ef31a539",
   "metadata": {},
   "outputs": [
    {
     "name": "stdout",
     "output_type": "stream",
     "text": [
      "Iam ansaba\n",
      "Coming from chathankulangara\n",
      "Iam 20 years old\n",
      "I am studying mes college\n"
     ]
    }
   ],
   "source": [
    "class student:\n",
    "    def __init__(self,name,address,age):\n",
    "        self.a=name\n",
    "        self.b=address\n",
    "        self.c=age\n",
    "    def display(self):\n",
    "        print(self.a)\n",
    "        print(self.b)\n",
    "        print(self.c)\n",
    "    def extra(self,collegename):\n",
    "        print(collegename)\n",
    "    \n",
    "obj=student(\"Iam ansaba\",\"Coming from chathankulangara\",\"Iam 20 years old\")\n",
    "obj.display()\n",
    "obj.extra(\"I am studying mes college\")"
   ]
  },
  {
   "cell_type": "code",
   "execution_count": 9,
   "id": "fd4437ee",
   "metadata": {},
   "outputs": [
    {
     "name": "stdout",
     "output_type": "stream",
     "text": [
      "ansaba chathankulangara 20\n",
      "mes college\n"
     ]
    }
   ],
   "source": [
    "class student:\n",
    "    def __init__(self,name,adress,age):\n",
    "        self.a=name\n",
    "        self.b=adress\n",
    "        self.c=age\n",
    "    def display(self):\n",
    "        print(self.a,self.b,self.c)\n",
    "    def extra(self,collegename):\n",
    "        print(collegename)\n",
    "    \n",
    "obj=student(\"ansaba\",\"chathankulangara\",20)\n",
    "obj.display()\n",
    "obj.extra(\"mes college\")"
   ]
  },
  {
   "cell_type": "code",
   "execution_count": 4,
   "id": "589e6e5a",
   "metadata": {},
   "outputs": [
    {
     "name": "stdout",
     "output_type": "stream",
     "text": [
      "I am ansaba,coming from chathankulangara,and I am 20 years old\n",
      "i am studying mescollege\n"
     ]
    }
   ],
   "source": [
    "class student:\n",
    "    def __init__(self,name,adress,age):\n",
    "        self.a=name\n",
    "        self.b=adress\n",
    "        self.c=age\n",
    "    def display(self):\n",
    "        print(\"I am {},coming from {},and I am {} years old\".format(self.a,self.b,self.c))\n",
    "    \n",
    "\n",
    "    def extra(self,collegename):\n",
    "        \n",
    "        self.d=collegename\n",
    "        print(\"i am studying {}\".format(self.d))\n",
    "        \n",
    "    \n",
    "obj=student(\"ansaba\",\"chathankulangara\",20)\n",
    "obj.display()\n",
    "obj.extra(\"mescollege\")"
   ]
  },
  {
   "cell_type": "code",
   "execution_count": 3,
   "id": "264fcfc9",
   "metadata": {},
   "outputs": [
    {
     "name": "stdout",
     "output_type": "stream",
     "text": [
      "I am ansaba,My roll Number is 1,\n",
      "I am 20 Years Old\n",
      "Total Mark is 100\n"
     ]
    }
   ],
   "source": [
    "class student:\n",
    "    def __init__(self,name,rollnumber):\n",
    "        self.a=name\n",
    "        self.b=rollnumber\n",
    "    def display(self):\n",
    "        print(\"I am {},My roll Number is {},\".format(self.a,self.b))\n",
    "    def age(self,age):\n",
    "        self.c=age\n",
    "\n",
    "        print(\"I am {} Years Old\".format(self.c))\n",
    "    def mark(self,mark):\n",
    "        self.d=mark\n",
    "        print(\"Total Mark is {}\".format(self.d))\n",
    "obj=student(\"ansaba\",1)\n",
    "obj.display()\n",
    "obj.age(20)\n",
    "obj.mark(100)"
   ]
  },
  {
   "cell_type": "code",
   "execution_count": 1,
   "id": "558896b4",
   "metadata": {},
   "outputs": [
    {
     "ename": "SyntaxError",
     "evalue": "invalid syntax (768276340.py, line 1)",
     "output_type": "error",
     "traceback": [
      "\u001b[1;36m  Input \u001b[1;32mIn [1]\u001b[1;36m\u001b[0m\n\u001b[1;33m    class is the blue print of object,\u001b[0m\n\u001b[1;37m          ^\u001b[0m\n\u001b[1;31mSyntaxError\u001b[0m\u001b[1;31m:\u001b[0m invalid syntax\n"
     ]
    }
   ],
   "source": [
    "class is the blue print of object,\n",
    "class(class name,example:student,flower,sample etc...)\n",
    "s=(object)format is\n",
    "s=sample()\n",
    "init function is(def__init__():)\n",
    "self(parameter)"
   ]
  },
  {
   "cell_type": "code",
   "execution_count": 19,
   "id": "195649e0",
   "metadata": {},
   "outputs": [
    {
     "name": "stdout",
     "output_type": "stream",
     "text": [
      "15\n",
      "50\n",
      "0\n",
      "5\n"
     ]
    }
   ],
   "source": [
    "class example:\n",
    "    def __init__ (self,a,b):\n",
    "        self.a=a\n",
    "        self.b=b\n",
    "    def display(self):\n",
    "            print(self.a+self.b)\n",
    "            print(self.a*self.b)\n",
    "            print(self.a%self.b)\n",
    "            print(self.a-self.b)\n",
    "    \n",
    "    \n",
    "    \n",
    "obj=example(10,5)\n",
    "obj.display()\n",
    "\n",
    "        "
   ]
  },
  {
   "cell_type": "code",
   "execution_count": 8,
   "id": "25d286f9",
   "metadata": {},
   "outputs": [
    {
     "name": "stdout",
     "output_type": "stream",
     "text": [
      "15\n"
     ]
    }
   ],
   "source": [
    "class emaple:\n",
    "    def __init__(self,a,b):\n",
    "        self.a=a\n",
    "        self.b=b\n",
    "    def display(self):\n",
    "        print(self.a*self.b)\n",
    "obj=example(10,5)\n",
    "obj.display()"
   ]
  },
  {
   "cell_type": "code",
   "execution_count": 13,
   "id": "f293d2d2",
   "metadata": {},
   "outputs": [
    {
     "name": "stdout",
     "output_type": "stream",
     "text": [
      "78.5\n"
     ]
    }
   ],
   "source": [
    "class circle:\n",
    "    def __init__(self,r):\n",
    "        self.r=r\n",
    "    def area(self):\n",
    "        print(3.14*self.r**2)\n",
    "obj=circle(5)\n",
    "obj.area()\n",
    "    \n"
   ]
  },
  {
   "cell_type": "code",
   "execution_count": 18,
   "id": "725d8e4a",
   "metadata": {},
   "outputs": [
    {
     "name": "stdout",
     "output_type": "stream",
     "text": [
      "20\n"
     ]
    }
   ],
   "source": [
    "class rectangle:\n",
    "    def __init__(self,length,width):\n",
    "        self.a=length\n",
    "        self.b=width\n",
    "    def area(self):\n",
    "        print(self.a*self.b)\n",
    "obj=rectangle(5,4)\n",
    "obj.area()"
   ]
  },
  {
   "cell_type": "code",
   "execution_count": 20,
   "id": "29dd9474",
   "metadata": {},
   "outputs": [
    {
     "name": "stdout",
     "output_type": "stream",
     "text": [
      "enter the string:name\n",
      "name\n"
     ]
    }
   ],
   "source": [
    "class string:\n",
    "    def __init__(self):\n",
    "        self.string=\" \"\n",
    "    def check(self):\n",
    "        self.string=input(\"enter the string:\")\n",
    "    def display(self):\n",
    "        print(self.string)\n",
    "obj=string()\n",
    "obj.check()\n",
    "obj.display()\n",
    "        \n",
    "        "
   ]
  },
  {
   "cell_type": "code",
   "execution_count": 10,
   "id": "b5becd79",
   "metadata": {},
   "outputs": [
    {
     "ename": "SyntaxError",
     "evalue": "invalid syntax (1348008217.py, line 7)",
     "output_type": "error",
     "traceback": [
      "\u001b[1;36m  Input \u001b[1;32mIn [10]\u001b[1;36m\u001b[0m\n\u001b[1;33m    obj=animal:(\"he is jumping like a lion\",\"his movements very fast\",\"he is very nice and brilliant\"format(self.a))\u001b[0m\n\u001b[1;37m              ^\u001b[0m\n\u001b[1;31mSyntaxError\u001b[0m\u001b[1;31m:\u001b[0m invalid syntax\n"
     ]
    }
   ],
   "source": [
    "class animal:\n",
    "    def __init__(self,name):\n",
    "        self.a=a\n",
    "    def display(self):\n",
    "        print(self.a)\n",
    "obj=animal:(\"he is jumping like a lion\",\"his movements very fast\",\"he is very nice and brilliant\")\n",
    "obj.display()\n"
   ]
  },
  {
   "cell_type": "code",
   "execution_count": 3,
   "id": "925ce115",
   "metadata": {},
   "outputs": [
    {
     "ename": "SyntaxError",
     "evalue": "invalid syntax (891913221.py, line 7)",
     "output_type": "error",
     "traceback": [
      "\u001b[1;36m  Input \u001b[1;32mIn [3]\u001b[1;36m\u001b[0m\n\u001b[1;33m    def function(self,walk):\u001b[0m\n\u001b[1;37m    ^\u001b[0m\n\u001b[1;31mSyntaxError\u001b[0m\u001b[1;31m:\u001b[0m invalid syntax\n"
     ]
    }
   ],
   "source": [
    "class animal:\n",
    "    def __init__(self,a,b):\n",
    "        self.a=a\n",
    "        self.b=b\n",
    "    def disply(self):\n",
    "        print(\"he is {},he is like {},\".format(self.a,self.b)\n",
    "    def function(self,walk):\n",
    "         self.c=walk\n",
    "        print(\"he is{}ing\".format(self.c))\n",
    "obj=animal(\"elephant\",\"lion\")\n",
    "obj.disply()\n",
    "obj.function(\"walk\")"
   ]
  },
  {
   "cell_type": "code",
   "execution_count": 15,
   "id": "77c3465d",
   "metadata": {},
   "outputs": [
    {
     "name": "stdout",
     "output_type": "stream",
     "text": [
      "i am chimburabit\n",
      "it was walking on the road\n",
      "then i met my friend\n",
      "then we laughed a lot\n"
     ]
    }
   ],
   "source": [
    "class animal:\n",
    "    def __init__(self,name):\n",
    "        self.name=name\n",
    "    def display(self):\n",
    "        print(\"i am {}\".format(self.name))\n",
    "    def called (self,walk):\n",
    "        walk\n",
    "        print(\"it was {}ing on the road\".format(walk))\n",
    "    def friend (self,friend):\n",
    "        friend\n",
    "        print(\"then i met my {}\".format(friend))\n",
    "    def extra(self,laugh):\n",
    "        laugh\n",
    "        print(\"then we {}ed a lot\".format(laugh))\n",
    "obj=animal(\"chimburabit\")\n",
    "obj.display()\n",
    "obj.called(\"walk\")\n",
    "obj.friend(\"friend\")\n",
    "obj.extra(\"laugh\")"
   ]
  },
  {
   "cell_type": "code",
   "execution_count": 17,
   "id": "c71eb7fc",
   "metadata": {},
   "outputs": [
    {
     "name": "stdout",
     "output_type": "stream",
     "text": [
      "parrot is ready\n",
      "bird is sleeping\n",
      "parrot can fly\n",
      "bird can swiming\n",
      "parrot cannot run fastly\n"
     ]
    }
   ],
   "source": [
    "class bird:\n",
    "    def __init__(self):\n",
    "        print(\"bird is sleeping\")\n",
    "    def fly(self):\n",
    "        print(\"bird can fly\")\n",
    "    def swim(self):\n",
    "        print(\"bird can swiming\")\n",
    "\n",
    "class parrot(bird):\n",
    "    def __init__(self):\n",
    "        print (\"parrot is ready\")\n",
    "        super().__init__()\n",
    "    def fly(self):\n",
    "        print(\"parrot can fly\")\n",
    "    def run(self):\n",
    "        print(\"parrot cannot run fastly\")\n",
    "obj=parrot()\n",
    "obj.fly()\n",
    "obj.swim()\n",
    "obj.run()\n",
    "    "
   ]
  },
  {
   "cell_type": "code",
   "execution_count": 25,
   "id": "1afb40fd",
   "metadata": {},
   "outputs": [
    {
     "name": "stdout",
     "output_type": "stream",
     "text": [
      "Lion is the king of forest\n",
      "Animals are living in the earth\n",
      "Lion can jump\n",
      "There are male and female\n",
      "Lion can run fastly\n",
      "Animals are divided in to two\n"
     ]
    }
   ],
   "source": [
    "class animal:\n",
    "    def __init__(self):\n",
    "        print(\"Animals are living in the earth\")\n",
    "    def live(self):\n",
    "        print(\"Animals are divided in to two\")\n",
    "    def earth(self):\n",
    "        print(\"There are male and female\")\n",
    "class lion(animal):\n",
    "    def __init__(self):\n",
    "        print(\"Lion is the king of forest\")\n",
    "        super().__init__()\n",
    "    def king(self):\n",
    "        print(\"Lion can jump\")\n",
    "    def run(self):\n",
    "        print(\"Lion can run fastly\")\n",
    "obj=lion()\n",
    "obj.king()\n",
    "obj.earth()\n",
    "obj.run()\n",
    "obj.live()    \n",
    "        "
   ]
  },
  {
   "cell_type": "code",
   "execution_count": 26,
   "id": "7500cd4d",
   "metadata": {},
   "outputs": [],
   "source": [
    "class vehicleclass:\n",
    "    pass"
   ]
  },
  {
   "cell_type": "code",
   "execution_count": 40,
   "id": "ddd3b488",
   "metadata": {},
   "outputs": [
    {
     "name": "stdout",
     "output_type": "stream",
     "text": [
      "bus is very familiar to everyone\n",
      "there many types\n"
     ]
    }
   ],
   "source": [
    "class vehicle:\n",
    "    def __init__(self):\n",
    "        print(\"there many types\")\n",
    "    def hour(self):\n",
    "        print(\"just like bus,auto,jeep..etc\")\n",
    "    def like(self):\n",
    "        print(\"the vehicles is very important in our daily life\")\n",
    "    def daily(self):\n",
    "        print(\"it's very helpful\")\n",
    "class bus(vehicle):\n",
    "    def __init__(self):\n",
    "        print(\"bus is very familiar to everyone\")\n",
    "        super().__init__()      \n",
    "    def live(self):\n",
    "        print(\"there are many types like school bus,tourist bus etc..\")\n",
    "obj=bus()\n",
    "#obj.live()\n",
    "#obj.hour()\n",
    "#obj.like()\n",
    "   \n",
    "                      \n",
    "              \n",
    "              \n",
    "              \n",
    "    "
   ]
  },
  {
   "cell_type": "code",
   "execution_count": 41,
   "id": "0dd26b32",
   "metadata": {},
   "outputs": [
    {
     "name": "stdout",
     "output_type": "stream",
     "text": [
      "bus is very familiar to everyone\n",
      "there many types\n",
      "50\n"
     ]
    }
   ],
   "source": [
    "class vehicle:\n",
    "    def __init__(self):\n",
    "        print(\"there many types\")\n",
    "    def type(self):\n",
    "        print(\"just like bus,auto,jeep..etc\")\n",
    "    def like(self):\n",
    "        print(\"the vehicles is very important in our daily life\")\n",
    "    def daily(self):\n",
    "        print(\"it's very helpful\")\n",
    "class bus(vehicle):\n",
    "    def __init__(self):\n",
    "        print(\"bus is very familiar to everyone\")\n",
    "        super().__init__()      \n",
    "    def live(self):\n",
    "        print(\"there are many types like school bus,tourist bus etc..\")\n",
    "    def seat(self,seating_capacity=50):\n",
    "        print(seating_capacity)\n",
    "obj=bus()\n",
    "                   \n",
    "obj.seat()\n",
    "              \n",
    "              \n",
    "              \n",
    "    "
   ]
  },
  {
   "cell_type": "code",
   "execution_count": 42,
   "id": "2efa8063",
   "metadata": {},
   "outputs": [
    {
     "name": "stdout",
     "output_type": "stream",
     "text": [
      "there many types\n",
      "there are many types like school bus,tourist bus etc..\n",
      "just like bus,auto,jeep..etc\n",
      "the vehicles is very important in our daily life\n"
     ]
    }
   ],
   "source": [
    "class vehicle:\n",
    "    def __init__(self):\n",
    "        print(\"there many types\")\n",
    "    def hour(self):\n",
    "        print(\"just like bus,auto,jeep..etc\")\n",
    "    def like(self):\n",
    "        print(\"the vehicles is very important in our daily life\")\n",
    "    def daily(self):\n",
    "        print(\"it's very helpful\")\n",
    "class bus(vehicle):\n",
    "    def hour(self):\n",
    "        print(\"just like bus,auto,jeep..etc\")\n",
    "    def like(self):\n",
    "        print(\"the vehicles is very important in our daily life\")\n",
    "    def daily(self):\n",
    "        print(\"it's very helpful\")\n",
    "    \n",
    "        super().__init__()      \n",
    "    def live(self):\n",
    "        print(\"there are many types like school bus,tourist bus etc..\")\n",
    "obj=bus()\n",
    "obj.live()\n",
    "obj.hour()\n",
    "obj.like()\n",
    "   \n",
    "                      \n",
    "              \n",
    "              \n",
    "              \n",
    "    "
   ]
  },
  {
   "cell_type": "code",
   "execution_count": 45,
   "id": "bb1df82d",
   "metadata": {},
   "outputs": [
    {
     "data": {
      "text/plain": [
       "type"
      ]
     },
     "execution_count": 45,
     "metadata": {},
     "output_type": "execute_result"
    }
   ],
   "source": [
    "type(vehicle)"
   ]
  },
  {
   "cell_type": "code",
   "execution_count": 51,
   "id": "834a76e2",
   "metadata": {},
   "outputs": [
    {
     "name": "stdout",
     "output_type": "stream",
     "text": [
      "there many types\n",
      "False\n"
     ]
    }
   ],
   "source": [
    "class vehicle:\n",
    "    def __init__(self):\n",
    "        print(\"there many types\")\n",
    "    def hour(self):\n",
    "        print(\"just like bus,auto,jeep..etc\")\n",
    "    def like(self):\n",
    "        print(\"the vehicles is very important in our daily life\")\n",
    "    def daily(self):\n",
    "        print(\"it's very helpful\")\n",
    "class schoolbus(vehicle):\n",
    "    def hour(self):\n",
    "        print(\"just like bus,auto,jeep..etc\")\n",
    "    def like(self):\n",
    "        print(\"the vehicles is very important in our daily life\")\n",
    "    def daily(self):\n",
    "        print(\"it's very helpful\")\n",
    "    \n",
    "        super().__init__()      \n",
    "    def live(self):\n",
    "        print(\"there are many types like school bus,tourist bus,ksrtc bus etc..\")\n",
    "\n",
    "obj=schoolbus() \n",
    "print(isinstance(vehicle,schoolbus))   "
   ]
  },
  {
   "cell_type": "code",
   "execution_count": 4,
   "id": "46b3acb7",
   "metadata": {},
   "outputs": [
    {
     "name": "stdout",
     "output_type": "stream",
     "text": [
      "there many types\n"
     ]
    },
    {
     "data": {
      "text/plain": [
       "__main__.schoolbus"
      ]
     },
     "execution_count": 4,
     "metadata": {},
     "output_type": "execute_result"
    }
   ],
   "source": [
    "class vehicle:\n",
    "    def __init__(self):\n",
    "        print(\"there many types\")\n",
    "    def hour(self):\n",
    "        print(\"just like bus,auto,jeep..etc\")\n",
    "    def like(self):\n",
    "        print(\"the vehicles is very important in our daily life\")\n",
    "    def daily(self):\n",
    "        print(\"it's very helpful\")\n",
    "class schoolbus(vehicle):\n",
    "    def hour(self):\n",
    "        print(\"just like bus,auto,jeep..etc\")\n",
    "    def like(self):\n",
    "        print(\"the vehicles is very important in our daily life\")\n",
    "    def daily(self):\n",
    "        print(\"it's very helpful\")\n",
    "    \n",
    "        super().__init__()      \n",
    "    def live(self):\n",
    "        print(\"there are many types like school bus,tourist bus,ksrtc bus etc..\")\n",
    "\n",
    "obj=schoolbus() \n",
    "type(obj)"
   ]
  },
  {
   "cell_type": "code",
   "execution_count": null,
   "id": "08e5f2e1",
   "metadata": {},
   "outputs": [],
   "source": []
  }
 ],
 "metadata": {
  "kernelspec": {
   "display_name": "Python 3 (ipykernel)",
   "language": "python",
   "name": "python3"
  },
  "language_info": {
   "codemirror_mode": {
    "name": "ipython",
    "version": 3
   },
   "file_extension": ".py",
   "mimetype": "text/x-python",
   "name": "python",
   "nbconvert_exporter": "python",
   "pygments_lexer": "ipython3",
   "version": "3.9.12"
  }
 },
 "nbformat": 4,
 "nbformat_minor": 5
}
