{
 "cells": [
  {
   "cell_type": "code",
   "execution_count": 1,
   "id": "a42f121d",
   "metadata": {},
   "outputs": [],
   "source": [
    "#palindrom\n",
    "#python program  to check if a number is palidrom\n",
    "#using loop"
   ]
  },
  {
   "cell_type": "code",
   "execution_count": 3,
   "id": "99992a6e",
   "metadata": {},
   "outputs": [
    {
     "name": "stdout",
     "output_type": "stream",
     "text": [
      "yes\n"
     ]
    }
   ],
   "source": [
    "x=\"malayalam\"\n",
    "y=\"\"\n",
    "for i in x:\n",
    "    y=y+i\n",
    "if (x==y):\n",
    "    print(\"yes\")\n",
    "else:\n",
    "    print(\"no\")\n",
    "\n",
    "\n",
    "\n",
    "\n",
    "\n",
    "\n",
    "\n"
   ]
  },
  {
   "cell_type": "code",
   "execution_count": 24,
   "id": "7424aa80",
   "metadata": {},
   "outputs": [
    {
     "name": "stdout",
     "output_type": "stream",
     "text": [
      "NO\n"
     ]
    }
   ],
   "source": [
    "x=\"yes\"\n",
    "w=\" \"\n",
    "for i in x:\n",
    "    w=i+w\n",
    "if x==w:\n",
    "    print(\"yes\")\n",
    "else:\n",
    "    print(\"NO\")\n",
    "\n",
    "\n"
   ]
  },
  {
   "cell_type": "code",
   "execution_count": 17,
   "id": "62e5a313",
   "metadata": {},
   "outputs": [
    {
     "name": "stdout",
     "output_type": "stream",
     "text": [
      "yes\n"
     ]
    }
   ],
   "source": [
    "#using def function\n",
    "def ispalindrome(s):\n",
    "    return s==s[::-1]\n",
    "s=\"malayalam\"\n",
    "ans= ispalindrome(s)\n",
    "if ans:\n",
    "    print(\"yes\")\n",
    "else:\n",
    "    print(\"no\")\n",
    "\n"
   ]
  },
  {
   "cell_type": "code",
   "execution_count": 5,
   "id": "b3884e6c",
   "metadata": {},
   "outputs": [
    {
     "name": "stdout",
     "output_type": "stream",
     "text": [
      "yes\n"
     ]
    }
   ],
   "source": [
    "#numbers palindrome\n",
    "x=\"121\"\n",
    "w=\" \"\n",
    "for i in x:\n",
    "    w=i+x\n",
    "if w==w:\n",
    "    print(\"yes\")\n",
    "else:\n",
    "    print(\"no\")\n",
    "    "
   ]
  },
  {
   "cell_type": "code",
   "execution_count": 25,
   "id": "c0afe11d",
   "metadata": {},
   "outputs": [
    {
     "name": "stdout",
     "output_type": "stream",
     "text": [
      "no\n"
     ]
    }
   ],
   "source": [
    "\n",
    "x=\"hello\"\n",
    "y=\" \"\n",
    "for i in x:\n",
    "    y=i+y\n",
    "if x==y:\n",
    "    print(\"yes\")\n",
    "else:\n",
    "    print(\"no\")"
   ]
  },
  {
   "cell_type": "code",
   "execution_count": 27,
   "id": "3878c54d",
   "metadata": {},
   "outputs": [
    {
     "name": "stdout",
     "output_type": "stream",
     "text": [
      "yes\n"
     ]
    }
   ],
   "source": [
    "def ispalindrome(s):\n",
    "    return s==s[::-1]\n",
    "s=\"malayalam\"\n",
    "x=ispalindrome\n",
    "if x:\n",
    "    print(\"yes\")\n",
    "else:\n",
    "    print(\"no\")\n"
   ]
  },
  {
   "cell_type": "code",
   "execution_count": 31,
   "id": "f6044e12",
   "metadata": {},
   "outputs": [
    {
     "name": "stdout",
     "output_type": "stream",
     "text": [
      "enter the value:121\n",
      "number is palindrome!\n"
     ]
    }
   ],
   "source": [
    "#numbers palindrome\n",
    "num=int(input(\"enter the value:\"))\n",
    "a=num\n",
    "s=0\n",
    "while num>0:\n",
    "    digit=num%10\n",
    "    s=s*10+digit\n",
    "    num=num//10\n",
    "if a==s\n",
    "    print(\"number is palindrome!\")\n",
    "else:\n",
    "    print(\"number is not palindrome!\")\n",
    "    "
   ]
  },
  {
   "cell_type": "code",
   "execution_count": 34,
   "id": "d3d4732d",
   "metadata": {},
   "outputs": [
    {
     "name": "stdout",
     "output_type": "stream",
     "text": [
      "number is not divisible by 2 or 3:\n",
      "1\n",
      "5\n",
      "7\n",
      "11\n",
      "13\n",
      "17\n",
      "19\n",
      "23\n",
      "25\n",
      "29\n",
      "31\n",
      "35\n",
      "37\n"
     ]
    }
   ],
   "source": [
    "#divisible\n",
    "a=40\n",
    "print(\"number is not divisible by 2 or 3:\")\n",
    "for i in range(1,a,2):\n",
    "    if i%3!=0:\n",
    "        print(i)"
   ]
  },
  {
   "cell_type": "code",
   "execution_count": 36,
   "id": "b28d1b9d",
   "metadata": {},
   "outputs": [
    {
     "name": "stdout",
     "output_type": "stream",
     "text": [
      "enter the limit:12345\n",
      "the all total sum of the digit is: 15\n"
     ]
    }
   ],
   "source": [
    "n=int(input(\"enter the limit:\"))\n",
    "s=0\n",
    "while n>0:\n",
    "    digit=n%10\n",
    "    s=s+digit\n",
    "    n=n//10\n",
    "print(\"the all total sum of the digit is:\",s)"
   ]
  },
  {
   "cell_type": "code",
   "execution_count": 40,
   "id": "da33e948",
   "metadata": {},
   "outputs": [
    {
     "name": "stdout",
     "output_type": "stream",
     "text": [
      "enter the limit:153\n",
      "armstrong\n"
     ]
    }
   ],
   "source": [
    "#armstrong\n",
    "x=int(input(\"enter the limit:\"))\n",
    "num=x\n",
    "s=0\n",
    "while num>0:\n",
    "    digit=num%10\n",
    "    s=s+digit**3\n",
    "    num=num//10\n",
    "if s==x:\n",
    "    print(\"armstrong\")\n",
    "else:\n",
    "    print(\"no armstrong\")\n",
    "    "
   ]
  },
  {
   "cell_type": "code",
   "execution_count": 12,
   "id": "87e672ec",
   "metadata": {},
   "outputs": [
    {
     "name": "stdout",
     "output_type": "stream",
     "text": [
      "enter an integer:8\n",
      "the divisors of an number are:\n",
      "1\n",
      "2\n",
      "4\n",
      "8\n"
     ]
    }
   ],
   "source": [
    "n=int(input(\"enter an integer:\"))\n",
    "print(\"the divisors of an number are:\")\n",
    "for i in range(1,n+1):\n",
    "    if n%i==0:\n",
    "        print(i)"
   ]
  },
  {
   "cell_type": "code",
   "execution_count": 2,
   "id": "000afd53",
   "metadata": {},
   "outputs": [
    {
     "name": "stdout",
     "output_type": "stream",
     "text": [
      "[1, 2, 3, 6, 7]\n"
     ]
    }
   ],
   "source": [
    "#smallest divisor of an number\n",
    "l1=[1,2,3,6,7]\n",
    "print(\"the smallest element\",l1)"
   ]
  },
  {
   "cell_type": "code",
   "execution_count": 13,
   "id": "4c31a5a2",
   "metadata": {},
   "outputs": [
    {
     "name": "stdout",
     "output_type": "stream",
     "text": [
      " * * * * * \n",
      "  * * * * \n",
      "   * * * \n",
      "    * * \n",
      "     * \n",
      "      \n"
     ]
    }
   ],
   "source": [
    "num=5\n",
    "for i in range(num+1):\n",
    "    print(\" \"*i,\"* \"*(num-i))"
   ]
  },
  {
   "cell_type": "code",
   "execution_count": 1,
   "id": "75ee922c",
   "metadata": {},
   "outputs": [
    {
     "name": "stdout",
     "output_type": "stream",
     "text": [
      "enter the year:2012\n",
      "2012 is a leap year\n"
     ]
    }
   ],
   "source": [
    "#check leap year or not\n",
    "year=int(input(\"enter the year:\"))\n",
    "if (year %400==0)and(year%100==0):\n",
    "    print(\"{0} is a leap year\".format(year))\n",
    "elif(year%4==0)and(year%100!=0):\n",
    "    print(\"{0} is a leap year\".format(year))\n",
    "else:\n",
    "    print(\"{0} is not a leap year\".format(year))\n",
    "                   "
   ]
  },
  {
   "cell_type": "code",
   "execution_count": 2,
   "id": "06df1a15",
   "metadata": {},
   "outputs": [
    {
     "name": "stdout",
     "output_type": "stream",
     "text": [
      "value of x: 5 and y: 7\n",
      "value of x: 7 and y: 5\n"
     ]
    }
   ],
   "source": [
    "#swaping\n",
    "x=5\n",
    "y=7\n",
    "print(\"value of x:\",x,\"and y:\",y)\n",
    "x,y=y,x\n",
    "print(\"value of x:\",x,\"and y:\",y)"
   ]
  },
  {
   "cell_type": "code",
   "execution_count": 3,
   "id": "e8897c82",
   "metadata": {},
   "outputs": [
    {
     "name": "stdout",
     "output_type": "stream",
     "text": [
      "enter the first value:10\n",
      "enter the second value:13\n",
      "0\n",
      "10\n"
     ]
    }
   ],
   "source": [
    "a=int(input(\"enter the first value:\"))\n",
    "b=int(input(\"enter the second value:\"))\n",
    "quotient=a//b\n",
    "remainder=a%b\n",
    "print(quotient)\n",
    "print(remainder)"
   ]
  },
  {
   "cell_type": "code",
   "execution_count": 4,
   "id": "aa254f7c",
   "metadata": {},
   "outputs": [
    {
     "name": "stdout",
     "output_type": "stream",
     "text": [
      "210.0\n"
     ]
    }
   ],
   "source": [
    "#python program simple intrest\n",
    "p=3000\n",
    "r=7\n",
    "t=1\n",
    "print(p*r*t/100)\n",
    "\n",
    "\n",
    "\n"
   ]
  },
  {
   "cell_type": "code",
   "execution_count": 5,
   "id": "beb3bbaf",
   "metadata": {},
   "outputs": [
    {
     "name": "stdout",
     "output_type": "stream",
     "text": [
      "enter the base:5\n",
      "enter the height:5\n",
      "area= 12.5\n"
     ]
    }
   ],
   "source": [
    "#area of traingle\n",
    "a=int(input(\"enter the base:\"))\n",
    "b=int(input(\"enter the height:\"))\n",
    "area=a*b/2\n",
    "print(\"area=\",area)"
   ]
  },
  {
   "cell_type": "code",
   "execution_count": 6,
   "id": "8e0f0640",
   "metadata": {},
   "outputs": [
    {
     "name": "stdout",
     "output_type": "stream",
     "text": [
      "enter the height:6\n",
      "the length in inches is\n",
      "2.36\n",
      "the length in feet is\n",
      "0.2\n"
     ]
    }
   ],
   "source": [
    "#centementers inches and feet\n",
    "in_cm=int(input(\"enter the height:\"))\n",
    "in_inches=0.394*in_cm\n",
    "in_feet=0.0328*in_cm\n",
    "print(\"the length in inches is\")\n",
    "print(round(in_inches,2))\n",
    "print(\"the length in feet is\")\n",
    "print(round(in_feet,2))"
   ]
  },
  {
   "cell_type": "code",
   "execution_count": 7,
   "id": "5ac9f30b",
   "metadata": {},
   "outputs": [
    {
     "name": "stdout",
     "output_type": "stream",
     "text": [
      "the smallest element is 1\n"
     ]
    }
   ],
   "source": [
    "l1=[1,2,3,6,7]\n",
    "print(\"the smallest element is\",min(l1))"
   ]
  },
  {
   "cell_type": "code",
   "execution_count": 8,
   "id": "8bf2c0ee",
   "metadata": {},
   "outputs": [
    {
     "name": "stdout",
     "output_type": "stream",
     "text": [
      "enter an integer:6\n",
      "the divisors of an number are:\n",
      "1\n",
      "2\n",
      "3\n",
      "6\n"
     ]
    }
   ],
   "source": [
    "#febinocci series\n",
    "n=int(input(\"enter an integer:\"))\n",
    "print(\"the divisors of an number are:\")\n",
    "for i in range(1,n+1):\n",
    "    if n%i==0:\n",
    "        print(i)"
   ]
  },
  {
   "cell_type": "code",
   "execution_count": 9,
   "id": "20aae252",
   "metadata": {},
   "outputs": [
    {
     "name": "stdout",
     "output_type": "stream",
     "text": [
      "enter the first value:1\n",
      "enter the last value:6\n",
      "choose your operation*\n",
      "720\n"
     ]
    }
   ],
   "source": [
    "#FACTORIAL \n",
    "a=int(input(\"enter the first value:\"))\n",
    "b=int(input(\"enter the last value:\"))\n",
    "c=(input(\"choose your operation\"))\n",
    "s=1\n",
    "for i in range(a,b+1):\n",
    "    s=s*i\n",
    "print(s)"
   ]
  },
  {
   "cell_type": "code",
   "execution_count": 10,
   "id": "6115d47e",
   "metadata": {},
   "outputs": [
    {
     "name": "stdout",
     "output_type": "stream",
     "text": [
      "enter the value:153\n",
      "the number is armstrong\n"
     ]
    }
   ],
   "source": [
    "x=int(input(\"enter the value:\"))\n",
    "num=x\n",
    "s=0\n",
    "while num>0:\n",
    "    digit=num%10\n",
    "    s=s+digit**3\n",
    "    num=num//10\n",
    "if x==s:\n",
    "    print(\"the number is armstrong\")\n",
    "else:\n",
    "    print(\"this number is not armstrong\")"
   ]
  },
  {
   "cell_type": "code",
   "execution_count": 12,
   "id": "94591731",
   "metadata": {},
   "outputs": [
    {
     "name": "stdout",
     "output_type": "stream",
     "text": [
      "enter the value:43\n",
      "THIS NUMBER IS NOT ARMSTRONG\n"
     ]
    }
   ],
   "source": [
    "x=int(input(\"enter the value:\"))\n",
    "num=x\n",
    "s=0\n",
    "while num>0:\n",
    "    digit=num%10\n",
    "    s=s+digit**2\n",
    "    num=num//10\n",
    "if x==s:\n",
    "    print(\"THE NUMBER IS ARMSTRONG\")\n",
    "else:\n",
    "    print(\"THIS NUMBER IS NOT ARMSTRONG\")\n",
    "    \n"
   ]
  },
  {
   "cell_type": "code",
   "execution_count": 6,
   "id": "8bd05ed8",
   "metadata": {},
   "outputs": [
    {
     "name": "stdout",
     "output_type": "stream",
     "text": [
      "number is not divisible by 5:\n",
      "5\n",
      "10\n",
      "15\n",
      "20\n",
      "25\n",
      "30\n",
      "35\n",
      "40\n"
     ]
    }
   ],
   "source": [
    "# 5 divisible\n",
    "a=40\n",
    "print(\"number is not divisible by 5:\")\n",
    "for i in range(1,a+1):\n",
    "    if i%5==0:\n",
    "        print(i)\n"
   ]
  },
  {
   "cell_type": "code",
   "execution_count": 8,
   "id": "b11dfd10",
   "metadata": {},
   "outputs": [
    {
     "ename": "NameError",
     "evalue": "name 'x' is not defined",
     "output_type": "error",
     "traceback": [
      "\u001b[1;31m---------------------------------------------------------------------------\u001b[0m",
      "\u001b[1;31mNameError\u001b[0m                                 Traceback (most recent call last)",
      "Input \u001b[1;32mIn [8]\u001b[0m, in \u001b[0;36m<cell line: 9>\u001b[1;34m()\u001b[0m\n\u001b[0;32m      7\u001b[0m     x\u001b[38;5;241m=\u001b[39m(\u001b[38;5;241m-\u001b[39mb\u001b[38;5;241m-\u001b[39mcmath\u001b[38;5;241m.\u001b[39msqrt(d))\u001b[38;5;241m/\u001b[39m(\u001b[38;5;241m2\u001b[39m\u001b[38;5;241m*\u001b[39ma)\n\u001b[0;32m      8\u001b[0m     y\u001b[38;5;241m=\u001b[39m(\u001b[38;5;241m-\u001b[39mb\u001b[38;5;241m+\u001b[39mcmath\u001b[38;5;241m.\u001b[39msqrt(d))\u001b[38;5;241m/\u001b[39m(\u001b[38;5;241m2\u001b[39m\u001b[38;5;241m*\u001b[39ma)\n\u001b[1;32m----> 9\u001b[0m \u001b[38;5;28mprint\u001b[39m(\u001b[38;5;124m\"\u001b[39m\u001b[38;5;124mthe solutions are \u001b[39m\u001b[38;5;132;01m{0}\u001b[39;00m\u001b[38;5;124m,\u001b[39m\u001b[38;5;132;01m{1}\u001b[39;00m\u001b[38;5;124m\"\u001b[39m\u001b[38;5;241m.\u001b[39mformat(\u001b[43mx\u001b[49m,y))\n",
      "\u001b[1;31mNameError\u001b[0m: name 'x' is not defined"
     ]
    }
   ],
   "source": [
    "#quardratic equation\n",
    "a=5\n",
    "b=8\n",
    "c=4\n",
    "d=(b**2)-(4*a*c)\n",
    "if d>0:\n",
    "    x=(-b-cmath.sqrt(d))/(2*a)\n",
    "    y=(-b+cmath.sqrt(d))/(2*a)\n",
    "print(\"the solutions are {0},{1}\".format(x,y))"
   ]
  },
  {
   "cell_type": "code",
   "execution_count": 9,
   "id": "7f4f3397",
   "metadata": {},
   "outputs": [
    {
     "name": "stdout",
     "output_type": "stream",
     "text": [
      "enter the value:6\n",
      "113.04\n"
     ]
    }
   ],
   "source": [
    "#area of circle\n",
    "r=int(input(\"enter the value:\"))\n",
    "area=3.14*r**2\n",
    "print(area)"
   ]
  },
  {
   "cell_type": "code",
   "execution_count": 10,
   "id": "59cc1384",
   "metadata": {},
   "outputs": [
    {
     "name": "stdout",
     "output_type": "stream",
     "text": [
      "enter the height:3\n",
      "enter the width:5\n",
      "15\n"
     ]
    }
   ],
   "source": [
    "#area of rectangle\n",
    "a=int(input(\"enter the height:\"))\n",
    "b=int(input(\"enter the width:\"))\n",
    "area=a*b\n",
    "print(area)"
   ]
  },
  {
   "cell_type": "raw",
   "id": "e628eb02",
   "metadata": {},
   "source": [
    "#"
   ]
  },
  {
   "cell_type": "code",
   "execution_count": null,
   "id": "ab57ef0e",
   "metadata": {},
   "outputs": [],
   "source": []
  }
 ],
 "metadata": {
  "kernelspec": {
   "display_name": "Python 3 (ipykernel)",
   "language": "python",
   "name": "python3"
  },
  "language_info": {
   "codemirror_mode": {
    "name": "ipython",
    "version": 3
   },
   "file_extension": ".py",
   "mimetype": "text/x-python",
   "name": "python",
   "nbconvert_exporter": "python",
   "pygments_lexer": "ipython3",
   "version": "3.9.12"
  }
 },
 "nbformat": 4,
 "nbformat_minor": 5
}
