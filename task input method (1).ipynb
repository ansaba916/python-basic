{
 "cells": [
  {
   "cell_type": "code",
   "execution_count": 2,
   "id": "979bc492",
   "metadata": {},
   "outputs": [
    {
     "name": "stdout",
     "output_type": "stream",
     "text": [
      "enter your purchase amount2000\n",
      "your discount amount 400.0\n",
      "the amount you paying 1600.0\n"
     ]
    }
   ],
   "source": [
    "a=int(input(\"enter your purchase amount\"))\n",
    "if a>1500:\n",
    "    b=((a*20)/100)\n",
    "    print(\"your discount amount\",b)\n",
    "    print(\"the amount you paying\",a-b)\n",
    "else:\n",
    "    print(\"you have no discount\")\n",
    "\n"
   ]
  },
  {
   "cell_type": "code",
   "execution_count": 3,
   "id": "db518c04",
   "metadata": {},
   "outputs": [
    {
     "name": "stdout",
     "output_type": "stream",
     "text": [
      "enter the value79\n",
      "the value is odd\n"
     ]
    }
   ],
   "source": [
    "a=int(input(\"enter the value\"))\n",
    "if a%2==1:\n",
    "    print(\"the value is odd\")\n",
    "else:\n",
    "    print(\"the value is even\")\n",
    "    "
   ]
  },
  {
   "cell_type": "code",
   "execution_count": 9,
   "id": "80f0fa2a",
   "metadata": {},
   "outputs": [
    {
     "name": "stdout",
     "output_type": "stream",
     "text": [
      "enter the value0\n",
      "the value is positive\n"
     ]
    }
   ],
   "source": [
    "t=int(input(\"enter the value\"))\n",
    "if t<0:\n",
    "    print(\"the value is negative\")\n",
    "elif a==0:\n",
    "    print(\"the value is zero\")\n",
    "else:\n",
    "    print(\"the value is positive\")\n",
    "    \n",
    "    "
   ]
  },
  {
   "cell_type": "code",
   "execution_count": 12,
   "id": "224046ca",
   "metadata": {},
   "outputs": [
    {
     "name": "stdout",
     "output_type": "stream",
     "text": [
      "enter the mark566\n",
      "A+\n"
     ]
    }
   ],
   "source": [
    "a=int(input(\"enter the mark\"))\n",
    "if a>450:\n",
    "    print(\"A+\")\n",
    "elif a>=350 and a<450:\n",
    "    print(\"A\")\n",
    "elif a>250 and a<350:\n",
    "\n",
    "    print(\"B+\")\n",
    "else:\n",
    "    print(\"b\")"
   ]
  },
  {
   "cell_type": "code",
   "execution_count": 19,
   "id": "8493f08e",
   "metadata": {},
   "outputs": [
    {
     "name": "stdout",
     "output_type": "stream",
     "text": [
      "enter the mark35\n",
      "YOU ARE FAILED\n"
     ]
    }
   ],
   "source": [
    "a=int(input(\"enter the mark\"))\n",
    "if a>450:\n",
    "    print(\"A+\")\n",
    "elif a>=350 and a<450:\n",
    "    print(\"A\")\n",
    "elif a>250 and a<350:\n",
    "    print(\"B+\")\n",
    "elif a>200 and a<250:\n",
    "    print(\"b\")\n",
    "elif a>150 and a<200:\n",
    "    print(\"c+\")\n",
    "elif a>100 and a<150:\n",
    "    print(\"c\")\n",
    "else:\n",
    "    print(\"YOU ARE FAILED\")"
   ]
  },
  {
   "cell_type": "code",
   "execution_count": null,
   "id": "22d061fb",
   "metadata": {},
   "outputs": [],
   "source": []
  }
 ],
 "metadata": {
  "kernelspec": {
   "display_name": "Python 3 (ipykernel)",
   "language": "python",
   "name": "python3"
  },
  "language_info": {
   "codemirror_mode": {
    "name": "ipython",
    "version": 3
   },
   "file_extension": ".py",
   "mimetype": "text/x-python",
   "name": "python",
   "nbconvert_exporter": "python",
   "pygments_lexer": "ipython3",
   "version": "3.9.12"
  }
 },
 "nbformat": 4,
 "nbformat_minor": 5
}
