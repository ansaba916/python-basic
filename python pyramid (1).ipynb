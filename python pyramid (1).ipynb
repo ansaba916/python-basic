{
 "cells": [
  {
   "cell_type": "code",
   "execution_count": 6,
   "id": "cb23c6e1",
   "metadata": {},
   "outputs": [
    {
     "name": "stdout",
     "output_type": "stream",
     "text": [
      "p\n",
      "py\n",
      "pyt\n",
      "pyth\n",
      "pytho\n",
      "python\n",
      "pytho\n",
      "pyth\n",
      "pyt\n",
      "py\n",
      "p\n",
      "\n"
     ]
    }
   ],
   "source": [
    "s=\"python\"\n",
    "l=0\n",
    "for i in s:\n",
    "    l=l+1\n",
    "    print(s[0:l])\n",
    "for i in s:\n",
    "    l=l-1\n",
    "    print(s[0:l])"
   ]
  },
  {
   "cell_type": "code",
   "execution_count": 9,
   "id": "0b894cb1",
   "metadata": {},
   "outputs": [
    {
     "name": "stdout",
     "output_type": "stream",
     "text": [
      "p\n",
      "py\n",
      "pyt\n",
      "pyth\n",
      "pytho\n",
      "python\n",
      "pytho\n",
      "pyth\n",
      "pyt\n",
      "py\n",
      "p\n",
      "\n"
     ]
    }
   ],
   "source": [
    "s=\"python\"\n",
    "l=0\n",
    "for i in s:\n",
    "    l=l+1\n",
    "    print(s[0:l])\n",
    "for i in s:\n",
    "    l=l-1\n",
    "    print(s[0:l])"
   ]
  },
  {
   "cell_type": "code",
   "execution_count": null,
   "id": "df816ee9",
   "metadata": {},
   "outputs": [],
   "source": []
  }
 ],
 "metadata": {
  "kernelspec": {
   "display_name": "Python 3 (ipykernel)",
   "language": "python",
   "name": "python3"
  },
  "language_info": {
   "codemirror_mode": {
    "name": "ipython",
    "version": 3
   },
   "file_extension": ".py",
   "mimetype": "text/x-python",
   "name": "python",
   "nbconvert_exporter": "python",
   "pygments_lexer": "ipython3",
   "version": "3.9.12"
  }
 },
 "nbformat": 4,
 "nbformat_minor": 5
}
